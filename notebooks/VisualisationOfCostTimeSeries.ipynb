{
 "cells": [
  {
   "cell_type": "code",
   "metadata": {
    "collapsed": true,
    "ExecuteTime": {
     "end_time": "2024-11-04T19:31:36.219075100Z",
     "start_time": "2024-11-04T19:31:36.094070500Z"
    }
   },
   "source": [
    "import com.google.gson.GsonBuilder\n",
    "import hu.akos.hollo.szabo.math.Permutation\n",
    "import hu.raven.puppet.logic.statistics.edgeHistogramMatrix\n",
    "import hu.raven.puppet.logic.statistics.mapStates\n",
    "import hu.raven.puppet.model.state.BacteriophageAlgorithmState\n",
    "import hu.raven.puppet.model.utility.math.GraphEdge\n",
    "import java.io.File\n",
    "import java.time.LocalDate\n",
    "import java.time.LocalDateTime\n",
    "import com.google.gson.reflect.TypeToken\n",
    "import hu.raven.puppet.utility.gson.*"
   ],
   "outputs": [],
   "execution_count": 2
  },
  {
   "cell_type": "code",
   "source": [
    "val gson = GsonBuilder()\n",
    "    .registerTypeAdapter(Permutation::class.java, PermutationTypeAdapter)\n",
    "    .registerTypeAdapter(LocalDateTime::class.java, LocalDateTimeTypeAdapter)\n",
    "    .registerTypeAdapter(LocalDate::class.java, LocalDateTypeAdapter)\n",
    "    .create()"
   ],
   "metadata": {
    "collapsed": false,
    "ExecuteTime": {
     "end_time": "2024-11-04T19:31:40.779259100Z",
     "start_time": "2024-11-04T19:31:40.337251600Z"
    }
   },
   "outputs": [],
   "execution_count": 3
  },
  {
   "cell_type": "code",
   "source": "val costTimeSeriesFile = File(\"D:\\\\Research\\\\Results\\\\extractions\\\\costTimeSeriesWithBiggerPopulation.json\")",
   "metadata": {
    "collapsed": false
   },
   "outputs": [],
   "execution_count": null
  },
  {
   "cell_type": "code",
   "source": [
    "data class ConfigurationWithTimeSeries(\n",
    "    val configuration: Configuration,\n",
    "    val timeAxes: LongArray,\n",
    "    val indexAxes: IntArray,\n",
    "    val valuesAxes: IntArray,\n",
    ")\n",
    "\n",
    "var records:List<ConfigurationWithTimeSeries> = TODO()"
   ],
   "metadata": {
    "collapsed": false
   },
   "outputs": [],
   "execution_count": null
  },
  {
   "cell_type": "code",
   "source": [
    "%use kandy"
   ],
   "metadata": {
    "collapsed": false
   },
   "outputs": [],
   "execution_count": null
  },
  {
   "cell_type": "code",
   "source": [
    "val indexLimit = records.minOf {\n",
    "        it.indexAxes.asList().max()\n",
    "}\n",
    "val timeLimit = records.minOf {\n",
    "        it.timeAxes.asList().max()\n",
    "}"
   ],
   "metadata": {
    "collapsed": false
   },
   "outputs": [],
   "execution_count": null
  },
  {
   "cell_type": "code",
   "source": [
    "fun <T> valueSequencer(value: T, count: Int) =\n",
    "    sequence {\n",
    "        repeat(count) { yield(value) }\n",
    "    }\n",
    "\n",
    "plot {\n",
    "    records\n",
    "        .asSequence()\n",
    "        .filter { it.configuration.sizeOfPopulation == 16 }\n",
    "        .filter { it.configuration.fileName == \"instance8.json\" }\n",
    "        .forEachIndexed { index, record ->\n",
    "            line {\n",
    "                val indexCount = record.indexAxes.count { it <= indexLimit }\n",
    "                color(\n",
    "                    valueSequencer(\n",
    "                        record.configuration.boostLuckyCount,\n",
    "                        indexCount\n",
    "                    ).asIterable()\n",
    "                ) {\n",
    "                    scale = continuous(Color.BLUE..Color.RED)\n",
    "                }\n",
    "                x(record.indexAxes.take(indexCount))\n",
    "                y(record.valuesAxes.take(indexCount))\n",
    "            }\n",
    "        }\n",
    "}"
   ],
   "metadata": {
    "collapsed": false
   },
   "outputs": [],
   "execution_count": null
  },
  {
   "cell_type": "code",
   "source": [],
   "metadata": {
    "collapsed": false
   },
   "outputs": [],
   "execution_count": null
  }
 ],
 "metadata": {
  "kernelspec": {
   "display_name": "Kotlin",
   "language": "kotlin",
   "name": "kotlin"
  },
  "language_info": {
   "name": "kotlin",
   "version": "1.9.0",
   "mimetype": "text/x-kotlin",
   "file_extension": ".kt",
   "pygments_lexer": "kotlin",
   "codemirror_mode": "text/x-kotlin",
   "nbconvert_exporter": ""
  },
  "ktnbPluginMetadata": {
   "projectDependencies": true
  }
 },
 "nbformat": 4,
 "nbformat_minor": 0
}
