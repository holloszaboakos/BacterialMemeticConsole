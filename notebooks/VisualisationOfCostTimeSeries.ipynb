{
 "cells": [
  {
   "cell_type": "code",
   "execution_count": null,
   "metadata": {
    "collapsed": true
   },
   "outputs": [],
   "source": [
    "import com.google.gson.GsonBuilder\n",
    "import hu.akos.hollo.szabo.math.Permutation\n",
    "import hu.raven.puppet.logic.statistics.edgeHistogramMatrix\n",
    "import hu.raven.puppet.logic.statistics.mapStates\n",
    "import hu.raven.puppet.utility.PermutationTypeAdapter\n",
    "import hu.raven.puppet.model.state.BacteriophageAlgorithmState\n",
    "import hu.raven.puppet.model.utility.math.GraphEdge\n",
    "import java.io.File\n",
    "import java.time.LocalDate\n",
    "import java.time.LocalDateTime\n",
    "import hu.raven.puppet.utility.LocalDateTimeTypeAdapter\n",
    "import hu.raven.puppet.utility.LocalDateTypeAdapter\n",
    "import com.google.gson.reflect.TypeToken\n",
    "import hu.raven.puppet.job.experiments.Configuration"
   ]
  },
  {
   "cell_type": "code",
   "outputs": [],
   "source": [
    "val gson = GsonBuilder()\n",
    "    .registerTypeAdapter(Permutation::class.java, PermutationTypeAdapter)\n",
    "    .registerTypeAdapter(LocalDateTime::class.java, LocalDateTimeTypeAdapter)\n",
    "    .registerTypeAdapter(LocalDate::class.java, LocalDateTypeAdapter)\n",
    "    .create()"
   ],
   "metadata": {
    "collapsed": false
   },
   "execution_count": null
  },
  {
   "cell_type": "code",
   "outputs": [],
   "source": [
    "val costTimeSeriesFile = File(\"D:\\\\Research\\\\Results\\\\extractions\\\\costTimeSeriesWithBiggerPopulation.json\")"
   ],
   "metadata": {
    "collapsed": false
   },
   "execution_count": null
  },
  {
   "cell_type": "code",
   "outputs": [],
   "source": [
    "data class ConfigurationWithTimeSeries(\n",
    "    val configuration: Configuration,\n",
    "    val timeAxes: LongArray,\n",
    "    val indexAxes: IntArray,\n",
    "    val valuesAxes: IntArray,\n",
    ")\n",
    "\n",
    "var records = costTimeSeriesFile.useLines { lines ->\n",
    "    val typeToken = object : TypeToken<Pair<Configuration, List<Pair<Long, Int>>>>() {}.type\n",
    "    lines\n",
    "        .map {\n",
    "            gson.fromJson<Pair<Configuration, List<Pair<Long, Int>>>>(it, typeToken)\n",
    "        }\n",
    "        .map { configAndTimeSeries ->\n",
    "            Pair(\n",
    "                configAndTimeSeries.first,\n",
    "                configAndTimeSeries.second\n",
    "                    .withIndex()\n",
    "                    .filter {\n",
    "                        it.index == 0 || configAndTimeSeries.second[it.index - 1].second > it.value.second\n",
    "                    }\n",
    "            )\n",
    "        }\n",
    "        .map {\n",
    "            ConfigurationWithTimeSeries(\n",
    "                configuration = it.first,\n",
    "                timeAxes = it.second.map { it.value.first }.toLongArray(),\n",
    "                indexAxes = it.second.map { it.index }.toIntArray(),\n",
    "                valuesAxes = it.second.map { it.value.second }.toIntArray(),\n",
    "            )\n",
    "        }\n",
    "        .toList()\n",
    "}"
   ],
   "metadata": {
    "collapsed": false
   },
   "execution_count": null
  },
  {
   "cell_type": "code",
   "outputs": [],
   "source": [
    "%use kandy"
   ],
   "metadata": {
    "collapsed": false
   },
   "execution_count": null
  },
  {
   "cell_type": "code",
   "outputs": [],
   "source": [
    "val indexLimit = records.minOf {\n",
    "        it.indexAxes.asList().max()\n",
    "}\n",
    "val timeLimit = records.minOf {\n",
    "        it.timeAxes.asList().max()\n",
    "}"
   ],
   "metadata": {
    "collapsed": false
   },
   "execution_count": null
  },
  {
   "cell_type": "code",
   "outputs": [],
   "source": [
    "fun <T> valueSequencer(value: T, count: Int) =\n",
    "    sequence {\n",
    "        repeat(count) { yield(value) }\n",
    "    }\n",
    "\n",
    "plot {\n",
    "    records\n",
    "        .asSequence()\n",
    "        .filter { it.configuration.sizeOfPopulation == 16 }\n",
    "        .filter { it.configuration.fileName == \"instance6.json\" }\n",
    "        .forEachIndexed { index, record ->\n",
    "            line {\n",
    "                val indexCount = record.indexAxes.count { it <= indexLimit }\n",
    "                color(\n",
    "                    valueSequencer(\n",
    "                        record.configuration.boostLuckyCount,\n",
    "                        indexCount\n",
    "                    ).asIterable()\n",
    "                ) {\n",
    "                    scale = continuous(Color.BLUE..Color.RED)\n",
    "                }\n",
    "                x(record.indexAxes.take(indexCount))\n",
    "                y(record.valuesAxes.take(indexCount))\n",
    "            }\n",
    "        }\n",
    "}"
   ],
   "metadata": {
    "collapsed": false
   },
   "execution_count": null
  },
  {
   "cell_type": "code",
   "outputs": [],
   "source": [],
   "metadata": {
    "collapsed": false
   },
   "execution_count": null
  }
 ],
 "metadata": {
  "kernelspec": {
   "display_name": "Kotlin",
   "language": "kotlin",
   "name": "kotlin"
  },
  "language_info": {
   "name": "kotlin",
   "version": "1.9.0",
   "mimetype": "text/x-kotlin",
   "file_extension": ".kt",
   "pygments_lexer": "kotlin",
   "codemirror_mode": "text/x-kotlin",
   "nbconvert_exporter": ""
  },
  "ktnbPluginMetadata": {
   "projectDependencies": true
  }
 },
 "nbformat": 4,
 "nbformat_minor": 0
}
