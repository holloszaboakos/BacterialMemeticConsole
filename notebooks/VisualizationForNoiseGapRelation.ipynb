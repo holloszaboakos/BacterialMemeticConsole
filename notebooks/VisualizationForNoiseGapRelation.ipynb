{
 "cells": [
  {
   "cell_type": "code",
   "metadata": {
    "collapsed": true
   },
   "source": [
    "import com.google.gson.Gson\n",
    "import hu.raven.puppet.job.experiments.CostStatistics\n",
    "import java.io.File\n",
    "\n",
    "val inputFolder = File(\"D:\\\\Git\\\\GitHub\\\\SourceCodes\\\\Kotlin\\\\BacterialMemeticConsole\\\\output\")\n",
    "val costStatistics = inputFolder.listFiles()\n",
    "    .map { file ->\n",
    "        println(file)\n",
    "        Gson().fromJson<CostStatistics>(file.readLines().joinToString(\"\\n\"), CostStatistics::class.java)\n",
    "    }"
   ],
   "outputs": [],
   "execution_count": null
  },
  {
   "metadata": {},
   "cell_type": "code",
   "source": [
    "val initialGapStatistics = costStatistics.map { it.initialGap }\n",
    "val builtGapStatistics = costStatistics.map { it.builtGap }\n",
    "val optimizedGapStatistics = costStatistics.map { it.optimizedGap }\n",
    "\n",
    "val data = mapOf(\n",
    "    \"phase\" to List(6) { \"initial\"} + List(6) { \"local search\"} +List(6) { \"final\"} ,\n",
    "    \"Q1\" to initialGapStatistics.map { it.q1 * 100 } + builtGapStatistics.map { it.q1 * 100} + optimizedGapStatistics.map { it.q1 * 100},\n",
    "    \"median\" to initialGapStatistics.map { it.median * 100} + builtGapStatistics.map { it.median* 100 } + optimizedGapStatistics.map { it.median * 100},\n",
    "    \"Q3\" to initialGapStatistics.map { it.q2 * 100} + builtGapStatistics.map { it.q2* 100 } + optimizedGapStatistics.map { it.q2* 100 },\n",
    ")"
   ],
   "outputs": [],
   "execution_count": null
  },
  {
   "metadata": {},
   "cell_type": "code",
   "source": "%use kandy",
   "outputs": [],
   "execution_count": null
  },
  {
   "metadata": {},
   "cell_type": "code",
   "source": [
    "data.plot {\n",
    "    layout {\n",
    "        title = \"Gap of new solution in the three phases\"\n",
    "        guideLegend()\n",
    "    }\n",
    "\n",
    "    x(\n",
    "        listOf(\"0.01\", \"0.02\", \"0.04\", \"0.08\", \"0.16\", \"0.32\") +\n",
    "                listOf(\"0.01\", \"0.02\", \"0.04\", \"0.08\", \"0.16\", \"0.32\") +\n",
    "                listOf(\"0.01\", \"0.02\", \"0.04\", \"0.08\", \"0.16\", \"0.32\")\n",
    "    ) { axis.name = \"noise deviation\" }\n",
    "    y {\n",
    "        axis.name = \"gap%\"\n",
    "        scale = continuous(0.0..70.0)\n",
    "    }\n",
    "\n",
    "    groupBy(\"phase\") {\n",
    "        ribbon {\n",
    "            yMin(\"Q1\")\n",
    "            yMax(\"Q3\")\n",
    "            fillColor = Color.BLACK\n",
    "            alpha = 0.25\n",
    "            borderLine {\n",
    "                borderLine.color = Color.GREEN\n",
    "                width = 0.0\n",
    "            }\n",
    "        }\n",
    "\n",
    "        line {\n",
    "            y(\"median\")\n",
    "            color(\"phase\") {\n",
    "                scale = categorical(\"final\" to Color.BLACK, \"local search\" to Color.BLACK, \"initial\" to Color.BLACK)\n",
    "            }\n",
    "            width = 1.5\n",
    "            type(\"phase\") {\n",
    "                scale = categorical(\n",
    "                    \"final\" to LineType.DASHED, \n",
    "                    \"local search\" to LineType.DOTTED,\n",
    "                    \"initial\" to LineType.TWODASH\n",
    "                )\n",
    "                color= Color.BLACK \n",
    "            }\n",
    "        }\n",
    "    }\n",
    "}"
   ],
   "outputs": [],
   "execution_count": null
  },
  {
   "metadata": {},
   "cell_type": "code",
   "source": [
    "import hu.akos.hollo.szabo.collections.asImmutable\n",
    "import hu.akos.hollo.szabo.math.asDoubleVector\n",
    "import hu.akos.hollo.szabo.math.matrix.DoubleMatrix\n",
    "\n",
    "var matrix = File(\"D:\\\\Git\\\\GitHub\\\\SourceCodes\\\\Kotlin\\\\BacterialMemeticConsole\\\\array\\\\array_data.txt\").readLines()\n",
    "    .map {\n",
    "        it\n",
    "            .split(\" \")\n",
    "            .map { it.toDouble() }\n",
    "            .toDoubleArray()\n",
    "            .asDoubleVector()\n",
    "    }\n",
    "    .toTypedArray()\n",
    "    .asImmutable()\n",
    "    .let { DoubleMatrix(it) }"
   ],
   "outputs": [],
   "execution_count": null
  },
  {
   "metadata": {},
   "cell_type": "code",
   "source": [
    "matrix = matrix.indices.last()\n",
    "    .map {\n",
    "        matrix.getRow(it)\n",
    "    }\n",
    "    .toTypedArray()\n",
    "    .asImmutable()\n",
    "    .let { DoubleMatrix(it) }"
   ],
   "outputs": [],
   "execution_count": null
  },
  {
   "metadata": {},
   "cell_type": "code",
   "source": "matrix.dimensions",
   "outputs": [],
   "execution_count": null
  },
  {
   "metadata": {},
   "cell_type": "code",
   "source": [
    "import hu.raven.puppet.job.experiments.statistics\n",
    "\n",
    "val statistics = matrix.columnVectors\n",
    "    .map { it.asDoubleArray().statistics() }"
   ],
   "outputs": [],
   "execution_count": null
  },
  {
   "metadata": {},
   "cell_type": "code",
   "source": "statistics.size",
   "outputs": [],
   "execution_count": null
  },
  {
   "metadata": {},
   "cell_type": "code",
   "source": [
    "val newData = mapOf(\n",
    "    \"phase\" to List(6) { listOf(\"final\",\"local search\",\"initial\")}.flatten() ,\n",
    "    \"Q1\" to statistics.map { it.q1  } ,\n",
    "    \"median\" to statistics.map { it.median } ,\n",
    "    \"Q3\" to statistics.map { it.q2 },\n",
    ")"
   ],
   "outputs": [],
   "execution_count": null
  },
  {
   "metadata": {},
   "cell_type": "code",
   "source": [
    "newData.plot {\n",
    "    layout {\n",
    "        title = \"Gap of original solution in the three phases\"\n",
    "    }\n",
    "\n",
    "    x(\n",
    "        listOf(\"0.01\", \"0.02\", \"0.04\", \"0.08\", \"0.16\", \"0.32\") +\n",
    "                listOf(\"0.01\", \"0.02\", \"0.04\", \"0.08\", \"0.16\", \"0.32\") +\n",
    "                listOf(\"0.01\", \"0.02\", \"0.04\", \"0.08\", \"0.16\", \"0.32\")\n",
    "    ) { axis.name = \"noise deviation\" }\n",
    "    y {\n",
    "        axis.name = \"gap%\"\n",
    "        axis.breaks(List(9/4*5 + 2){it*20})\n",
    "    }\n",
    "\n",
    "    groupBy(\"phase\") {\n",
    "        ribbon {\n",
    "            yMin(\"Q1\")\n",
    "            yMax(\"Q3\")\n",
    "            fillColor = Color.BLACK\n",
    "            alpha = 0.25\n",
    "            borderLine {\n",
    "                borderLine.color = Color.GREEN\n",
    "                width = 0.0\n",
    "            }\n",
    "        }\n",
    "\n",
    "        line {\n",
    "            y(\"median\")\n",
    "            color(\"phase\") {\n",
    "                scale = categorical(\"final\" to Color.BLACK, \"local search\" to Color.BLACK, \"initial\" to Color.BLACK)\n",
    "            }\n",
    "            width = 1.5\n",
    "            type(\"phase\") {\n",
    "                scale = categorical(\n",
    "                    \"final\" to LineType.DASHED,\n",
    "                    \"local search\" to LineType.DOTTED,\n",
    "                    \"initial\" to LineType.TWODASH\n",
    "                )\n",
    "                color= Color.BLACK\n",
    "            }\n",
    "        }\n",
    "    }\n",
    "}"
   ],
   "outputs": [],
   "execution_count": null
  },
  {
   "metadata": {},
   "cell_type": "code",
   "source": "",
   "outputs": [],
   "execution_count": null
  }
 ],
 "metadata": {
  "kernelspec": {
   "display_name": "Kotlin",
   "language": "kotlin",
   "name": "kotlin"
  },
  "language_info": {
   "name": "kotlin",
   "version": "1.9.23",
   "mimetype": "text/x-kotlin",
   "file_extension": ".kt",
   "pygments_lexer": "kotlin",
   "codemirror_mode": "text/x-kotlin",
   "nbconvert_exporter": ""
  },
  "ktnbPluginMetadata": {
   "projectDependencies": true
  }
 },
 "nbformat": 4,
 "nbformat_minor": 0
}
