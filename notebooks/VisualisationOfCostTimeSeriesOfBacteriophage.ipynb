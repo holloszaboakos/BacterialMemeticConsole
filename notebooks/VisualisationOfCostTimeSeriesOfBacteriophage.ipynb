{
 "cells": [
  {
   "cell_type": "code",
   "metadata": {
    "collapsed": true
   },
   "source": [
    "import com.google.gson.GsonBuilder\n",
    "import hu.akos.hollo.szabo.math.Permutation\n",
    "import hu.raven.puppet.logic.statistics.edgeHistogramMatrix\n",
    "import hu.raven.puppet.logic.statistics.mapStates\n",
    "import hu.raven.puppet.utility.PermutationTypeAdapter\n",
    "import hu.raven.puppet.model.state.BacteriophageAlgorithmState\n",
    "import hu.raven.puppet.model.utility.math.GraphEdge\n",
    "import java.io.File\n",
    "import java.time.LocalDate\n",
    "import java.time.LocalDateTime\n",
    "import hu.raven.puppet.utility.LocalDateTimeTypeAdapter\n",
    "import hu.raven.puppet.utility.LocalDateTypeAdapter\n",
    "import com.google.gson.reflect.TypeToken\n",
    "import hu.raven.puppet.job.experiments.BacteriophageAlgorithmConfiguration"
   ],
   "outputs": [],
   "execution_count": null
  },
  {
   "cell_type": "code",
   "source": [
    "val gson = GsonBuilder()\n",
    "    .registerTypeAdapter(Permutation::class.java, PermutationTypeAdapter)\n",
    "    .registerTypeAdapter(LocalDateTime::class.java, LocalDateTimeTypeAdapter)\n",
    "    .registerTypeAdapter(LocalDate::class.java, LocalDateTypeAdapter)\n",
    "    .create()"
   ],
   "metadata": {
    "collapsed": false
   },
   "outputs": [],
   "execution_count": null
  },
  {
   "cell_type": "code",
   "source": "val costTimeSeriesFolder = File(\"D:\\\\Research\\\\Results3\\\\extractions\\\\costTimeSeries\")",
   "metadata": {
    "collapsed": false
   },
   "outputs": [],
   "execution_count": null
  },
  {
   "cell_type": "code",
   "source": [
    "data class TimeSeriesEntry(\n",
    "    val time: Long,\n",
    "    val index: Int,\n",
    "    val value: Int,\n",
    ")\n",
    "\n",
    "data class ConfigurationWithTimeSeries(\n",
    "    val configuration: BacteriophageAlgorithmConfiguration,\n",
    "    val timeSeries: List<TimeSeriesEntry>\n",
    ")\n",
    "\n",
    "val timeSeriesType = object : TypeToken<List<Long>>() {}.type\n",
    "var records = costTimeSeriesFolder.listFiles()\n",
    "    .mapNotNull { entryFolder ->\n",
    "        val configurationFile = File(\"${entryFolder.path}\\\\configuration.json\")\n",
    "        val configuration = gson.fromJson<BacteriophageAlgorithmConfiguration>(\n",
    "            configurationFile.readText(),\n",
    "            BacteriophageAlgorithmConfiguration::class.java\n",
    "        )\n",
    "\n",
    "        if (configuration.fileName != \"instance2.json\") return@mapNotNull null\n",
    "\n",
    "        val timeSeriesFile = File(\"${entryFolder.path}\\\\timeSeries.json\")\n",
    "        val timeSerie = timeSeriesFile.useLines { lines ->\n",
    "            lines\n",
    "                .map {\n",
    "                    gson.fromJson<List<Long>>(it, timeSeriesType)\n",
    "                }\n",
    "                .withIndex()\n",
    "                .chunked(1000)\n",
    "                .map { it.last() }\n",
    "                .toList()\n",
    "                .let { timeSeries ->\n",
    "                    timeSeries\n",
    "                        .asSequence()\n",
    "                        .withIndex()\n",
    "                        .filter {\n",
    "                            it.index == 0 || timeSeries[it.index - 1].value[1] > it.value.value[1]\n",
    "                        }\n",
    "                        .map { it.value }\n",
    "                        .map {\n",
    "                            TimeSeriesEntry(\n",
    "                                time = it.value.first(),\n",
    "                                index = it.index,\n",
    "                                value = it.value.last().toInt()\n",
    "                            )\n",
    "                        }\n",
    "                        .toList()\n",
    "                }\n",
    "        }\n",
    "\n",
    "        Pair(configuration, timeSerie)\n",
    "    }\n",
    "    .toMap()\n",
    "    .map { ConfigurationWithTimeSeries(it.key, it.value) }\n",
    "\n"
   ],
   "metadata": {
    "collapsed": false
   },
   "outputs": [],
   "execution_count": null
  },
  {
   "cell_type": "code",
   "source": [
    "%use kandy"
   ],
   "metadata": {
    "collapsed": false
   },
   "outputs": [],
   "execution_count": null
  },
  {
   "cell_type": "code",
   "source": [
    "val indexLimit = records.minOf {\n",
    "    it.timeSeries.maxOf { it.index }\n",
    "}\n",
    "val timeLimit = records.minOf {\n",
    "    it.timeSeries.maxOf { it.time }\n",
    "}"
   ],
   "metadata": {
    "collapsed": false
   },
   "outputs": [],
   "execution_count": null
  },
  {
   "metadata": {},
   "cell_type": "code",
   "source": "records.size",
   "outputs": [],
   "execution_count": null
  },
  {
   "cell_type": "code",
   "source": [
    "fun <T> valueSequencer(value: T, count: Int) =\n",
    "    sequence {\n",
    "        repeat(count) { yield(value) }\n",
    "    }\n",
    "\n",
    "plot {\n",
    "    records\n",
    "        .asSequence()\n",
    "        //.filter { it.configuration.mutationPercentage <=0.13 } //pip\n",
    "        //.filter { it.configuration.cloneCycleCount == 16 }\n",
    "        //.filter { it.configuration.cloneCount == 16 }\n",
    "        .forEachIndexed { index, record ->\n",
    "            line {\n",
    "                val indexCount = record.timeSeries.count { it.index <= indexLimit }\n",
    "                color(\n",
    "                    valueSequencer(\n",
    "                        record.configuration.mutationPercentage,\n",
    "                        indexCount\n",
    "                    ).asIterable()\n",
    "                ) {\n",
    "                    scale = continuous(Color.BLUE..Color.RED)\n",
    "                }\n",
    "                x(record.timeSeries.map { it.index }.take(indexCount))\n",
    "                y(record.timeSeries.map { it.value }.take(indexCount))\n",
    "            }\n",
    "        }\n",
    "}"
   ],
   "metadata": {
    "collapsed": false
   },
   "outputs": [],
   "execution_count": null
  },
  {
   "cell_type": "code",
   "source": [],
   "metadata": {
    "collapsed": false
   },
   "outputs": [],
   "execution_count": null
  }
 ],
 "metadata": {
  "kernelspec": {
   "display_name": "Kotlin",
   "language": "kotlin",
   "name": "kotlin"
  },
  "language_info": {
   "name": "kotlin",
   "version": "1.9.0",
   "mimetype": "text/x-kotlin",
   "file_extension": ".kt",
   "pygments_lexer": "kotlin",
   "codemirror_mode": "text/x-kotlin",
   "nbconvert_exporter": ""
  },
  "ktnbPluginMetadata": {
   "projectDependencies": true
  }
 },
 "nbformat": 4,
 "nbformat_minor": 0
}
