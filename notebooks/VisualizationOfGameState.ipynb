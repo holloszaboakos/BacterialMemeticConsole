{
 "cells": [
  {
   "cell_type": "code",
   "metadata": {
    "collapsed": true
   },
   "source": [
    "import com.google.gson.GsonBuilder\n",
    "import hu.akos.hollo.szabo.math.Permutation\n",
    "import hu.raven.puppet.logic.statistics.edgeHistogramMatrix\n",
    "import hu.raven.puppet.logic.statistics.mapStates\n",
    "import hu.raven.puppet.utility.PermutationTypeAdapter\n",
    "import hu.raven.puppet.model.state.BacteriophageAlgorithmState\n",
    "import hu.raven.puppet.model.utility.math.GraphEdge\n",
    "import java.io.File\n"
   ],
   "outputs": [],
   "execution_count": null
  },
  {
   "cell_type": "markdown",
   "source": [
    "# What statistics to create\n",
    "\n",
    "Usual stuff:\n",
    "- progress of optimisation\n",
    "- age distribution\n",
    "- diversity of population\n",
    "    - edge recurrence\n",
    "    - distance based density\n",
    "    - distance from best based density\n",
    "\n",
    "Operator specific:\n",
    "- crossover:\n",
    "    - distance from parents\n",
    "    - improvement\n",
    "- mutation\n",
    "    - edge change\n",
    "    - gained distance from parents\n",
    "  "
   ],
   "metadata": {
    "collapsed": false
   }
  },
  {
   "cell_type": "code",
   "source": [
    "val edgeAccuranceMatrices = mapStates(\n",
    "    filePath = \"D:/Research/TEMP/2024-03-01/2024-03-01T18/algorithmState.json\",\n",
    "    sampleDistance = 10\n",
    "){    edgeHistogramMatrix(it) }"
   ],
   "metadata": {
    "collapsed": false
   },
   "outputs": [],
   "execution_count": null
  },
  {
   "cell_type": "code",
   "source": [
    "%use kandy\n",
    "%use dataframe"
   ],
   "metadata": {
    "collapsed": false
   },
   "outputs": [],
   "execution_count": null
  },
  {
   "cell_type": "code",
   "source": [
    "val state = edgeAccuranceMatrices[731]\n",
    "\n",
    "val mappedToEdges = state.indices[0]\n",
    "    .flatMap { sourceNodeIndex ->\n",
    "        state.indices[1].map { targetNodeIndex ->\n",
    "            GraphEdge(\n",
    "                sourceNodeIndex = sourceNodeIndex,\n",
    "                targetNodeIndex = targetNodeIndex,\n",
    "                value = state[sourceNodeIndex, targetNodeIndex]\n",
    "            )\n",
    "        }\n",
    "    }\n",
    "\n",
    "val edgeRecurrence = dataFrameOf(\n",
    "    \"sourceNodeIndex\" to mappedToEdges.map { it.sourceNodeIndex },\n",
    "    \"targetNodeIndex\" to mappedToEdges.map { it.targetNodeIndex },\n",
    "    \"numberOfEdges\" to mappedToEdges.map { it.value },\n",
    ")"
   ],
   "metadata": {
    "collapsed": false
   },
   "outputs": [],
   "execution_count": null
  },
  {
   "cell_type": "code",
   "source": [
    "edgeRecurrence.plot {\n",
    "    heatmap(\n",
    "        x = sourceNodeIndex,\n",
    "        y = targetNodeIndex,\n",
    "    ) {\n",
    "        fillColor(\n",
    "            values = numberOfEdges.map { it == 0 }\n",
    "        ) {\n",
    "            scale = categorical(listOf(Color.BLACK,Color.WHITE))\n",
    "            legend.name = \"number of edges\"\n",
    "        }\n",
    "    }\n",
    "}"
   ],
   "metadata": {
    "collapsed": false
   },
   "outputs": [],
   "execution_count": null
  },
  {
   "cell_type": "code",
   "source": [
    "edgeRecurrence.plot {\n",
    "    numberOfEdges.distinct()\n",
    "    bars {\n",
    "        x(numberOfEdges.distinct())\n",
    "        y(numberOfEdges.distinct().map { numberOfEdges.count { numberOfEdge -> it == numberOfEdge } })\n",
    "    }\n",
    "}"
   ],
   "metadata": {
    "collapsed": false
   },
   "outputs": [],
   "execution_count": null
  },
  {
   "cell_type": "code",
   "source": [
    "val ratioOfExtinctEdges = edgeAccuranceMatrices\n",
    "    .map { matrix ->\n",
    "        Pair(\n",
    "            matrix.indices[0].map { matrix[it].count { it == 0 } }.sum(),\n",
    "            matrix.indices[0].map { matrix[it].count { it != 0 } }.sum(),\n",
    "        )\n",
    "    }\n",
    "\n",
    "val extinctionTable = dataFrameOf(\n",
    "    \"index\" to ratioOfExtinctEdges.indices.toList(),\n",
    "    \"extinct\" to ratioOfExtinctEdges.map { it.first },\n",
    "    \"nonExtinct\" to ratioOfExtinctEdges.map { it.second },\n",
    ")"
   ],
   "metadata": {
    "collapsed": false
   },
   "outputs": [],
   "execution_count": null
  },
  {
   "cell_type": "code",
   "source": [
    "extinctionTable\n",
    "    .plot {\n",
    "        layout {\n",
    "            title = \"Plot title\"\n",
    "            size = 3000 to 1000\n",
    "        }\n",
    "        x(index)\n",
    "        line {\n",
    "            y(extinct)\n",
    "            color = Color.RED\n",
    "        }\n",
    "        line {\n",
    "            y(nonExtinct)\n",
    "            color = Color.BLUE\n",
    "        }\n",
    "    }"
   ],
   "metadata": {
    "collapsed": false
   },
   "outputs": [],
   "execution_count": null
  },
  {
   "cell_type": "code",
   "source": [
    "val bestValuesData = mapStates(\n",
    "    filePath = \"D:/Research/TEMP/2024-03-01/2024-03-01T18/algorithmState.json\",\n",
    "    sampleDistance = 100,\n",
    ") { \n",
    "    it.population.activesAsSequence()\n",
    "        .minOf { it.cost?.get(0) ?: -1f } \n",
    "}"
   ],
   "metadata": {
    "collapsed": false
   },
   "outputs": [],
   "execution_count": null
  },
  {
   "cell_type": "code",
   "source": [
    "val bestCostTable = dataFrameOf( \n",
    "    \"indexes\" to bestValuesData.indices.toList(),\n",
    "    \"bestCost\" to bestValuesData,\n",
    ")"
   ],
   "metadata": {
    "collapsed": false
   },
   "outputs": [],
   "execution_count": null
  },
  {
   "cell_type": "code",
   "source": [
    "bestCostTable.plot { \n",
    "    line { \n",
    "        x(indexes)\n",
    "        y(bestCost)\n",
    "        color = Color.BLUE\n",
    "    }\n",
    "}"
   ],
   "metadata": {
    "collapsed": false
   },
   "outputs": [],
   "execution_count": null
  },
  {
   "cell_type": "code",
   "source": [
    "val costsData  = mapStates(\n",
    "    filePath = \"D:/Research/TEMP/2024-03-04/2024-03-04T22/algorithmState.json\",\n",
    "    sampleDistance = 100\n",
    ") {\n",
    "    it.population.activesAsSequence()\n",
    "        .map { it.cost?.get(0) ?: -1f }\n",
    "        .toList()\n",
    "        .toFloatArray()\n",
    "}"
   ],
   "metadata": {
    "collapsed": false
   },
   "outputs": [],
   "execution_count": null
  },
  {
   "cell_type": "code",
   "source": [
    "val costsTable = dataFrameOf(\n",
    "    \"index\" to costsData.indices.toList(),\n",
    "    \"max\" to costsData.map { it.max() },\n",
    "    \"avg\" to costsData.map { it.average() },\n",
    "    \"min\" to costsData.map { it.min() },\n",
    "    \"spread\" to costsData\n",
    "        .map { costs ->\n",
    "            costs\n",
    "                .map { abs(it - costs.average()) }\n",
    "                .average()\n",
    "        },\n",
    "    \"mean\" to costsData\n",
    "        .map { it.sorted()[it.size / 2] }\n",
    ")"
   ],
   "metadata": {
    "collapsed": false
   },
   "outputs": [],
   "execution_count": null
  },
  {
   "cell_type": "code",
   "source": [
    "costsTable.plot {\n",
    "    x(index)\n",
    "    line {\n",
    "        y(max)\n",
    "        color = Color.BLUE\n",
    "    }\n",
    "    line {\n",
    "        y(min)\n",
    "        color = Color.RED\n",
    "    }\n",
    "    line {\n",
    "        y(avg)\n",
    "        color = Color.PURPLE\n",
    "    }\n",
    "    line {\n",
    "        y(spread)\n",
    "        color = Color.GREEN\n",
    "    }\n",
    "    line {\n",
    "        y(mean)\n",
    "        color = Color.YELLOW\n",
    "    }\n",
    "}"
   ],
   "metadata": {
    "collapsed": false
   },
   "outputs": [],
   "execution_count": null
  },
  {
   "cell_type": "markdown",
   "source": [],
   "metadata": {
    "collapsed": false
   }
  },
  {
   "cell_type": "code",
   "source": [],
   "metadata": {
    "collapsed": false
   },
   "outputs": [],
   "execution_count": null
  }
 ],
 "metadata": {
  "kernelspec": {
   "display_name": "Kotlin",
   "language": "kotlin",
   "name": "kotlin"
  },
  "language_info": {
   "name": "kotlin",
   "version": "1.9.0",
   "mimetype": "text/x-kotlin",
   "file_extension": ".kt",
   "pygments_lexer": "kotlin",
   "codemirror_mode": "text/x-kotlin",
   "nbconvert_exporter": ""
  },
  "ktnbPluginMetadata": {
   "projectDependencies": true
  }
 },
 "nbformat": 4,
 "nbformat_minor": 0
}
