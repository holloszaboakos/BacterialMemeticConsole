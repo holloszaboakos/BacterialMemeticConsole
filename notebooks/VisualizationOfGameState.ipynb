{
 "cells": [
  {
   "cell_type": "code",
   "execution_count": null,
   "metadata": {
    "collapsed": true
   },
   "outputs": [],
   "source": [
    "import com.google.gson.GsonBuilder\n",
    "import com.google.gson.TypeAdapter\n",
    "import com.google.gson.stream.JsonReader\n",
    "import com.google.gson.stream.JsonWriter\n",
    "import hu.akos.hollo.szabo.math.Permutation\n",
    "import hu.raven.puppet.logic.statistics.edgeHistogramMatrix\n",
    "import hu.raven.puppet.model.state.BacteriophageAlgorithmState\n",
    "import hu.raven.puppet.model.utility.math.GraphEdge\n"
   ]
  },
  {
   "cell_type": "code",
   "outputs": [],
   "source": [
    "object PermutationTypeAdapter : TypeAdapter<Permutation>() {\n",
    "        override fun write(out: JsonWriter, value: Permutation) {\n",
    "            out.beginArray()\n",
    "            value.forEach { out.value(it) }\n",
    "            out.endArray()\n",
    "        }\n",
    "\n",
    "        override fun read(input: JsonReader): Permutation {\n",
    "            input.beginArray()\n",
    "            val values = buildList {\n",
    "                while (input.hasNext()) {\n",
    "                    add(input.nextInt())\n",
    "                }\n",
    "            }\n",
    "            input.endArray()\n",
    "            return Permutation(values)\n",
    "        }\n",
    "    }"
   ],
   "metadata": {
    "collapsed": false
   },
   "execution_count": null
  },
  {
   "cell_type": "code",
   "outputs": [],
   "source": [
    "fun <T> mapStates(\n",
    "    filePath: String,\n",
    "    mapper: (BacteriophageAlgorithmState<*>) -> T\n",
    "): List<T> {\n",
    "    val file = File(filePath)\n",
    "    val gson = GsonBuilder()\n",
    "        .registerTypeAdapter(Permutation::class.java, PermutationTypeAdapter)\n",
    "        .create()\n",
    "\n",
    "    return file.useLines { lines ->\n",
    "        lines\n",
    "            .chunked(10)\n",
    "            .map { it.first() }\n",
    "            .mapIndexed { index, line ->\n",
    "                println(index)\n",
    "                gson.fromJson(line, BacteriophageAlgorithmState::class.java)\n",
    "            }\n",
    "            .map { mapper(it) }\n",
    "            .toList()\n",
    "    }\n",
    "}"
   ],
   "metadata": {
    "collapsed": false
   },
   "execution_count": null
  },
  {
   "cell_type": "code",
   "outputs": [],
   "source": [
    "val edgeAccuranceMatrices = mapStates(\n",
    "    \"../output/2024-03-01/2024-03-01T18/algorithmState.json\"\n",
    "){    edgeHistogramMatrix(it) }"
   ],
   "metadata": {
    "collapsed": false
   },
   "execution_count": null
  },
  {
   "cell_type": "code",
   "outputs": [],
   "source": [
    "%use kandy\n",
    "%use dataframe"
   ],
   "metadata": {
    "collapsed": false
   },
   "execution_count": null
  },
  {
   "cell_type": "code",
   "outputs": [],
   "source": [
    "val state = edgeAccuranceMatrixes[731]\n",
    "\n",
    "val mappedToEdges = state\n",
    "    .flatMapIndexed { sourceNodeIndex, edgesFromNode ->\n",
    "        edgesFromNode.mapIndexed { targetNodeIndex, value ->\n",
    "            GraphEdge(\n",
    "                sourceNodeIndex = sourceNodeIndex,\n",
    "                targetNodeIndex = targetNodeIndex,\n",
    "                value = value\n",
    "            )\n",
    "        }\n",
    "    }\n",
    "\n",
    "val edgeRecurrence = dataFrameOf(\n",
    "    \"sourceNodeIndex\" to mappedToEdges.map { it.sourceNodeIndex },\n",
    "    \"targetNodeIndex\" to mappedToEdges.map { it.targetNodeIndex },\n",
    "    \"numberOfEdges\" to mappedToEdges.map { it.value },\n",
    ")"
   ],
   "metadata": {
    "collapsed": false
   },
   "execution_count": null
  },
  {
   "cell_type": "code",
   "outputs": [],
   "source": [
    "edgeRecurrence.plot {\n",
    "    x(sourceNodeIndex)\n",
    "    y(targetNodeIndex)\n",
    "    heatmap(sourceNodeIndex, targetNodeIndex) {\n",
    "        fillColor(numberOfEdges.map { if (it == 0) 1 else 0 }) {\n",
    "            scale = continuous(Color.WHITE..Color.RED)\n",
    "            legend.name = \"number of edges\"\n",
    "        }\n",
    "    }\n",
    "}"
   ],
   "metadata": {
    "collapsed": false
   },
   "execution_count": null
  },
  {
   "cell_type": "code",
   "outputs": [],
   "source": [
    "edgeRecurrence.plot {\n",
    "    x(sourceNodeIndex)\n",
    "    y(targetNodeIndex)\n",
    "    histogram(numberOfEdges, binsOption = BinsOption.byWidth(1.0)) \n",
    "}"
   ],
   "metadata": {
    "collapsed": false
   },
   "execution_count": null
  },
  {
   "cell_type": "code",
   "outputs": [],
   "source": [
    "val bestValuesData = mapStates(\n",
    "    \"../output/2024-03-01/2024-03-01T18/algorithmState.json\"\n",
    ") { \n",
    "    it.population.activesAsSequence()\n",
    "        .minOf { it.cost?.get(0) ?: -1f } \n",
    "}"
   ],
   "metadata": {
    "collapsed": false
   },
   "execution_count": null
  },
  {
   "cell_type": "code",
   "outputs": [],
   "source": [
    "val bestCostTable = dataFrameOf( \n",
    "    \"indexes\" to bestValuesData.indices.toList(),\n",
    "    \"bestCost\" to bestValuesData,\n",
    ")"
   ],
   "metadata": {
    "collapsed": false
   },
   "execution_count": null
  },
  {
   "cell_type": "code",
   "outputs": [],
   "source": [
    "bestCostTable.plot { \n",
    "    line { \n",
    "        x(indexes)\n",
    "        y(bestCost)\n",
    "        color = Color.BLUE\n",
    "    }\n",
    "}"
   ],
   "metadata": {
    "collapsed": false
   },
   "execution_count": null
  },
  {
   "cell_type": "code",
   "outputs": [],
   "source": [
    "val costsData  = mapStates(\n",
    "    \"../output/2024-03-04/2024-03-04T22/algorithmState.json\"\n",
    ") {\n",
    "    it.population.activesAsSequence()\n",
    "        .map { it.cost?.get(0) ?: -1f }\n",
    "        .toList()\n",
    "        .toFloatArray()\n",
    "}"
   ],
   "metadata": {
    "collapsed": false
   },
   "execution_count": null
  },
  {
   "cell_type": "code",
   "outputs": [],
   "source": [
    "val costsTable = dataFrameOf(\n",
    "    \"index\" to costsData.indices.toList(),\n",
    "    \"max\" to costsData.map { it.max() },\n",
    "    \"avg\" to costsData.map { it.average() },\n",
    "    \"min\" to costsData.map { it.min() },\n",
    "    \"spread\" to costsData\n",
    "        .map { costs ->\n",
    "            costs\n",
    "                .map { abs(it - costs.average()) }\n",
    "                .average()\n",
    "        },\n",
    "    \"mean\" to costsData\n",
    "        .map { it.sorted()[it.size / 2] }\n",
    ")"
   ],
   "metadata": {
    "collapsed": false
   },
   "execution_count": null
  },
  {
   "cell_type": "code",
   "outputs": [],
   "source": [
    "costsTable.plot {\n",
    "    x(index)\n",
    "    line {\n",
    "        y(max)\n",
    "        color = Color.BLUE\n",
    "    }\n",
    "    line {\n",
    "        y(min)\n",
    "        color = Color.RED\n",
    "    }\n",
    "    line {\n",
    "        y(avg)\n",
    "        color = Color.PURPLE\n",
    "    }\n",
    "    line {\n",
    "        y(spread)\n",
    "        color = Color.GREEN\n",
    "    }\n",
    "    line {\n",
    "        y(mean)\n",
    "        color = Color.YELLOW\n",
    "    }\n",
    "}"
   ],
   "metadata": {
    "collapsed": false
   },
   "execution_count": null
  },
  {
   "cell_type": "markdown",
   "source": [],
   "metadata": {
    "collapsed": false
   }
  },
  {
   "cell_type": "code",
   "outputs": [],
   "source": [],
   "metadata": {
    "collapsed": false
   }
  }
 ],
 "metadata": {
  "kernelspec": {
   "display_name": "Kotlin",
   "language": "kotlin",
   "name": "kotlin"
  },
  "language_info": {
   "name": "kotlin",
   "version": "1.9.0",
   "mimetype": "text/x-kotlin",
   "file_extension": ".kt",
   "pygments_lexer": "kotlin",
   "codemirror_mode": "text/x-kotlin",
   "nbconvert_exporter": ""
  },
  "ktnbPluginMetadata": {
   "projectDependencies": true
  }
 },
 "nbformat": 4,
 "nbformat_minor": 0
}
