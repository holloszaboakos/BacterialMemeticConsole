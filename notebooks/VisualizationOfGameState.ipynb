{
 "cells": [
  {
   "cell_type": "code",
   "metadata": {
    "collapsed": true,
    "ExecuteTime": {
     "end_time": "2024-11-04T18:21:34.735064400Z",
     "start_time": "2024-11-04T18:21:34.674408200Z"
    }
   },
   "source": [
    "import com.google.gson.GsonBuilder\n",
    "import hu.akos.hollo.szabo.math.Permutation\n",
    "import hu.raven.puppet.logic.statistics.edgeHistogramMatrix\n",
    "import hu.raven.puppet.logic.statistics.mapStates\n",
    "import hu.raven.puppet.utility.PermutationTypeAdapter\n",
    "import hu.raven.puppet.model.state.BacteriophageAlgorithmState\n",
    "import hu.raven.puppet.model.utility.math.GraphEdge\n",
    "import java.io.File\n"
   ],
   "outputs": [],
   "execution_count": 1
  },
  {
   "cell_type": "markdown",
   "source": [
    "# What statistics to create\n",
    "\n",
    "Usual stuff:\n",
    "- progress of optimisation\n",
    "- age distribution\n",
    "- diversity of population\n",
    "    - edge recurrence\n",
    "    - distance based density\n",
    "    - distance from best based density\n",
    "\n",
    "Operator specific:\n",
    "- crossover:\n",
    "    - distance from parents\n",
    "    - improvement\n",
    "- mutation\n",
    "    - edge change\n",
    "    - gained distance from parents\n",
    "  "
   ],
   "metadata": {
    "collapsed": false
   }
  },
  {
   "cell_type": "code",
   "source": [
    "import hu.akos.hollo.szabo.math.matrix.IntMatrix\n",
    "\n",
    "val edgeAccuranceMatrices:List<IntMatrix> = TODO()"
   ],
   "metadata": {
    "collapsed": false,
    "ExecuteTime": {
     "end_time": "2024-11-04T18:22:03.989162500Z",
     "start_time": "2024-11-04T18:22:03.833212700Z"
    }
   },
   "outputs": [
    {
     "ename": "kotlin.NotImplementedError",
     "evalue": "An operation is not implemented.",
     "output_type": "error",
     "traceback": [
      "kotlin.NotImplementedError: An operation is not implemented.",
      "\tat Line_7_jupyter.<init>(Line_7.jupyter.kts:3) at Cell In[3], line 3",
      "\tat java.base/jdk.internal.reflect.NativeConstructorAccessorImpl.newInstance0(Native Method)",
      "\tat java.base/jdk.internal.reflect.NativeConstructorAccessorImpl.newInstance(NativeConstructorAccessorImpl.java:77)",
      "\tat java.base/jdk.internal.reflect.DelegatingConstructorAccessorImpl.newInstance(DelegatingConstructorAccessorImpl.java:45)",
      "\tat java.base/java.lang.reflect.Constructor.newInstanceWithCaller(Constructor.java:500)",
      "\tat java.base/java.lang.reflect.Constructor.newInstance(Constructor.java:481)",
      "\tat kotlin.script.experimental.jvm.BasicJvmScriptEvaluator.evalWithConfigAndOtherScriptsResults(BasicJvmScriptEvaluator.kt:122)",
      "\tat kotlin.script.experimental.jvm.BasicJvmScriptEvaluator.invoke$suspendImpl(BasicJvmScriptEvaluator.kt:48)",
      "\tat kotlin.script.experimental.jvm.BasicJvmScriptEvaluator.invoke(BasicJvmScriptEvaluator.kt)",
      "\tat kotlin.script.experimental.jvm.BasicJvmReplEvaluator.eval(BasicJvmReplEvaluator.kt:49)",
      "\tat org.jetbrains.kotlinx.jupyter.repl.impl.InternalEvaluatorImpl$eval$resultWithDiagnostics$1.invokeSuspend(InternalEvaluatorImpl.kt:137)",
      "\tat kotlin.coroutines.jvm.internal.BaseContinuationImpl.resumeWith(ContinuationImpl.kt:33)",
      "\tat kotlinx.coroutines.DispatchedTask.run(DispatchedTask.kt:104)",
      "\tat kotlinx.coroutines.EventLoopImplBase.processNextEvent(EventLoop.common.kt:277)",
      "\tat kotlinx.coroutines.BlockingCoroutine.joinBlocking(Builders.kt:95)",
      "\tat kotlinx.coroutines.BuildersKt__BuildersKt.runBlocking(Builders.kt:69)",
      "\tat kotlinx.coroutines.BuildersKt.runBlocking(Unknown Source)",
      "\tat kotlinx.coroutines.BuildersKt__BuildersKt.runBlocking$default(Builders.kt:48)",
      "\tat kotlinx.coroutines.BuildersKt.runBlocking$default(Unknown Source)",
      "\tat org.jetbrains.kotlinx.jupyter.repl.impl.InternalEvaluatorImpl.eval(InternalEvaluatorImpl.kt:137)",
      "\tat org.jetbrains.kotlinx.jupyter.repl.impl.CellExecutorImpl$execute$1$result$1.invoke(CellExecutorImpl.kt:80)",
      "\tat org.jetbrains.kotlinx.jupyter.repl.impl.CellExecutorImpl$execute$1$result$1.invoke(CellExecutorImpl.kt:78)",
      "\tat org.jetbrains.kotlinx.jupyter.repl.impl.ReplForJupyterImpl.withHost(ReplForJupyterImpl.kt:742)",
      "\tat org.jetbrains.kotlinx.jupyter.repl.impl.CellExecutorImpl.execute-L4Nmkdk(CellExecutorImpl.kt:78)",
      "\tat org.jetbrains.kotlinx.jupyter.repl.execution.CellExecutor$DefaultImpls.execute-L4Nmkdk$default(CellExecutor.kt:13)",
      "\tat org.jetbrains.kotlinx.jupyter.repl.impl.ReplForJupyterImpl.evaluateUserCode-wNURfNM(ReplForJupyterImpl.kt:565)",
      "\tat org.jetbrains.kotlinx.jupyter.repl.impl.ReplForJupyterImpl.evalExImpl(ReplForJupyterImpl.kt:423)",
      "\tat org.jetbrains.kotlinx.jupyter.repl.impl.ReplForJupyterImpl.access$evalExImpl(ReplForJupyterImpl.kt:139)",
      "\tat org.jetbrains.kotlinx.jupyter.repl.impl.ReplForJupyterImpl$evalEx$1.invoke(ReplForJupyterImpl.kt:416)",
      "\tat org.jetbrains.kotlinx.jupyter.repl.impl.ReplForJupyterImpl$evalEx$1.invoke(ReplForJupyterImpl.kt:415)",
      "\tat org.jetbrains.kotlinx.jupyter.repl.impl.ReplForJupyterImpl.withEvalContext(ReplForJupyterImpl.kt:396)",
      "\tat org.jetbrains.kotlinx.jupyter.repl.impl.ReplForJupyterImpl.evalEx(ReplForJupyterImpl.kt:415)",
      "\tat org.jetbrains.kotlinx.jupyter.messaging.IdeCompatibleMessageRequestProcessor$processExecuteRequest$1$response$1$1.invoke(IdeCompatibleMessageRequestProcessor.kt:170)",
      "\tat org.jetbrains.kotlinx.jupyter.messaging.IdeCompatibleMessageRequestProcessor$processExecuteRequest$1$response$1$1.invoke(IdeCompatibleMessageRequestProcessor.kt:169)",
      "\tat org.jetbrains.kotlinx.jupyter.streams.BlockingSubstitutionEngine.withDataSubstitution(SubstitutionEngine.kt:70)",
      "\tat org.jetbrains.kotlinx.jupyter.streams.StreamSubstitutionManager.withSubstitutedStreams(StreamSubstitutionManager.kt:118)",
      "\tat org.jetbrains.kotlinx.jupyter.messaging.IdeCompatibleMessageRequestProcessor.withForkedIn(IdeCompatibleMessageRequestProcessor.kt:342)",
      "\tat org.jetbrains.kotlinx.jupyter.messaging.IdeCompatibleMessageRequestProcessor.access$withForkedIn(IdeCompatibleMessageRequestProcessor.kt:66)",
      "\tat org.jetbrains.kotlinx.jupyter.messaging.IdeCompatibleMessageRequestProcessor$evalWithIO$1$1.invoke(IdeCompatibleMessageRequestProcessor.kt:356)",
      "\tat org.jetbrains.kotlinx.jupyter.streams.BlockingSubstitutionEngine.withDataSubstitution(SubstitutionEngine.kt:70)",
      "\tat org.jetbrains.kotlinx.jupyter.streams.StreamSubstitutionManager.withSubstitutedStreams(StreamSubstitutionManager.kt:118)",
      "\tat org.jetbrains.kotlinx.jupyter.messaging.IdeCompatibleMessageRequestProcessor.withForkedErr(IdeCompatibleMessageRequestProcessor.kt:331)",
      "\tat org.jetbrains.kotlinx.jupyter.messaging.IdeCompatibleMessageRequestProcessor.access$withForkedErr(IdeCompatibleMessageRequestProcessor.kt:66)",
      "\tat org.jetbrains.kotlinx.jupyter.messaging.IdeCompatibleMessageRequestProcessor$evalWithIO$1.invoke(IdeCompatibleMessageRequestProcessor.kt:355)",
      "\tat org.jetbrains.kotlinx.jupyter.streams.BlockingSubstitutionEngine.withDataSubstitution(SubstitutionEngine.kt:70)",
      "\tat org.jetbrains.kotlinx.jupyter.streams.StreamSubstitutionManager.withSubstitutedStreams(StreamSubstitutionManager.kt:118)",
      "\tat org.jetbrains.kotlinx.jupyter.messaging.IdeCompatibleMessageRequestProcessor.withForkedOut(IdeCompatibleMessageRequestProcessor.kt:323)",
      "\tat org.jetbrains.kotlinx.jupyter.messaging.IdeCompatibleMessageRequestProcessor.evalWithIO(IdeCompatibleMessageRequestProcessor.kt:354)",
      "\tat org.jetbrains.kotlinx.jupyter.messaging.IdeCompatibleMessageRequestProcessor$processExecuteRequest$1$response$1.invoke(IdeCompatibleMessageRequestProcessor.kt:169)",
      "\tat org.jetbrains.kotlinx.jupyter.messaging.IdeCompatibleMessageRequestProcessor$processExecuteRequest$1$response$1.invoke(IdeCompatibleMessageRequestProcessor.kt:168)",
      "\tat org.jetbrains.kotlinx.jupyter.execution.JupyterExecutorImpl$Task.execute(JupyterExecutorImpl.kt:41)",
      "\tat org.jetbrains.kotlinx.jupyter.execution.JupyterExecutorImpl$executorThread$1.invoke(JupyterExecutorImpl.kt:81)",
      "\tat org.jetbrains.kotlinx.jupyter.execution.JupyterExecutorImpl$executorThread$1.invoke(JupyterExecutorImpl.kt:79)",
      "\tat kotlin.concurrent.ThreadsKt$thread$thread$1.run(Thread.kt:30)",
      "",
      "kotlin.NotImplementedError: An operation is not implemented.",
      "at Cell In[3], line 3",
      ""
     ]
    }
   ],
   "execution_count": 3
  },
  {
   "cell_type": "code",
   "source": [
    "%use kandy\n",
    "%use dataframe"
   ],
   "metadata": {
    "collapsed": false,
    "ExecuteTime": {
     "end_time": "2024-11-04T18:22:19.690477500Z",
     "start_time": "2024-11-04T18:22:09.394027700Z"
    }
   },
   "outputs": [],
   "execution_count": 4
  },
  {
   "cell_type": "code",
   "source": [
    "val state = edgeAccuranceMatrices[731]\n",
    "\n",
    "val mappedToEdges = state.indices[0]\n",
    "    .flatMap { sourceNodeIndex ->\n",
    "        state.indices[1].map { targetNodeIndex ->\n",
    "            GraphEdge(\n",
    "                sourceNodeIndex = sourceNodeIndex,\n",
    "                targetNodeIndex = targetNodeIndex,\n",
    "                value = state[sourceNodeIndex, targetNodeIndex]\n",
    "            )\n",
    "        }\n",
    "    }\n",
    "\n",
    "val edgeRecurrence = dataFrameOf(\n",
    "    \"sourceNodeIndex\" to mappedToEdges.map { it.sourceNodeIndex },\n",
    "    \"targetNodeIndex\" to mappedToEdges.map { it.targetNodeIndex },\n",
    "    \"numberOfEdges\" to mappedToEdges.map { it.value },\n",
    ")"
   ],
   "metadata": {
    "collapsed": false
   },
   "outputs": [],
   "execution_count": null
  },
  {
   "cell_type": "code",
   "source": [
    "edgeRecurrence.plot {\n",
    "    heatmap(\n",
    "        x = sourceNodeIndex,\n",
    "        y = targetNodeIndex,\n",
    "    ) {\n",
    "        fillColor(\n",
    "            values = numberOfEdges.map { it == 0 }\n",
    "        ) {\n",
    "            scale = categorical(listOf(Color.BLACK,Color.WHITE))\n",
    "            legend.name = \"number of edges\"\n",
    "        }\n",
    "    }\n",
    "}"
   ],
   "metadata": {
    "collapsed": false
   },
   "outputs": [],
   "execution_count": null
  },
  {
   "cell_type": "code",
   "source": [
    "edgeRecurrence.plot {\n",
    "    numberOfEdges.distinct()\n",
    "    bars {\n",
    "        x(numberOfEdges.distinct())\n",
    "        y(numberOfEdges.distinct().map { numberOfEdges.count { numberOfEdge -> it == numberOfEdge } })\n",
    "    }\n",
    "}"
   ],
   "metadata": {
    "collapsed": false
   },
   "outputs": [],
   "execution_count": null
  },
  {
   "cell_type": "code",
   "source": [
    "val ratioOfExtinctEdges = edgeAccuranceMatrices\n",
    "    .map { matrix ->\n",
    "        Pair(\n",
    "            matrix.indices[0].map { matrix[it].count { it == 0 } }.sum(),\n",
    "            matrix.indices[0].map { matrix[it].count { it != 0 } }.sum(),\n",
    "        )\n",
    "    }\n",
    "\n",
    "val extinctionTable = dataFrameOf(\n",
    "    \"index\" to ratioOfExtinctEdges.indices.toList(),\n",
    "    \"extinct\" to ratioOfExtinctEdges.map { it.first },\n",
    "    \"nonExtinct\" to ratioOfExtinctEdges.map { it.second },\n",
    ")"
   ],
   "metadata": {
    "collapsed": false
   },
   "outputs": [],
   "execution_count": null
  },
  {
   "cell_type": "code",
   "source": [
    "extinctionTable\n",
    "    .plot {\n",
    "        layout {\n",
    "            title = \"Plot title\"\n",
    "            size = 3000 to 1000\n",
    "        }\n",
    "        x(index)\n",
    "        line {\n",
    "            y(extinct)\n",
    "            color = Color.RED\n",
    "        }\n",
    "        line {\n",
    "            y(nonExtinct)\n",
    "            color = Color.BLUE\n",
    "        }\n",
    "    }"
   ],
   "metadata": {
    "collapsed": false
   },
   "outputs": [],
   "execution_count": null
  },
  {
   "cell_type": "code",
   "source": [
    "val bestValuesData = mapStates(\n",
    "    filePath = \"D:/Research/TEMP/2024-03-01/2024-03-01T18/algorithmState.json\",\n",
    "    sampleDistance = 100,\n",
    ") { \n",
    "    it.population.activesAsSequence()\n",
    "        .minOf { it.cost?.get(0) ?: -1f } \n",
    "}"
   ],
   "metadata": {
    "collapsed": false
   },
   "outputs": [],
   "execution_count": null
  },
  {
   "cell_type": "code",
   "source": [
    "val bestCostTable = dataFrameOf( \n",
    "    \"indexes\" to bestValuesData.indices.toList(),\n",
    "    \"bestCost\" to bestValuesData,\n",
    ")"
   ],
   "metadata": {
    "collapsed": false
   },
   "outputs": [],
   "execution_count": null
  },
  {
   "cell_type": "code",
   "source": [
    "bestCostTable.plot { \n",
    "    line { \n",
    "        x(indexes)\n",
    "        y(bestCost)\n",
    "        color = Color.BLUE\n",
    "    }\n",
    "}"
   ],
   "metadata": {
    "collapsed": false
   },
   "outputs": [],
   "execution_count": null
  },
  {
   "cell_type": "code",
   "source": [
    "val costsData  = mapStates(\n",
    "    filePath = \"D:/Research/TEMP/2024-03-04/2024-03-04T22/algorithmState.json\",\n",
    "    sampleDistance = 100\n",
    ") {\n",
    "    it.population.activesAsSequence()\n",
    "        .map { it.cost?.get(0) ?: -1f }\n",
    "        .toList()\n",
    "        .toFloatArray()\n",
    "}"
   ],
   "metadata": {
    "collapsed": false
   },
   "outputs": [],
   "execution_count": null
  },
  {
   "cell_type": "code",
   "source": [
    "val costsTable = dataFrameOf(\n",
    "    \"index\" to costsData.indices.toList(),\n",
    "    \"max\" to costsData.map { it.max() },\n",
    "    \"avg\" to costsData.map { it.average() },\n",
    "    \"min\" to costsData.map { it.min() },\n",
    "    \"spread\" to costsData\n",
    "        .map { costs ->\n",
    "            costs\n",
    "                .map { abs(it - costs.average()) }\n",
    "                .average()\n",
    "        },\n",
    "    \"mean\" to costsData\n",
    "        .map { it.sorted()[it.size / 2] }\n",
    ")"
   ],
   "metadata": {
    "collapsed": false
   },
   "outputs": [],
   "execution_count": null
  },
  {
   "cell_type": "code",
   "source": [
    "costsTable.plot {\n",
    "    x(index)\n",
    "    line {\n",
    "        y(max)\n",
    "        color = Color.BLUE\n",
    "    }\n",
    "    line {\n",
    "        y(min)\n",
    "        color = Color.RED\n",
    "    }\n",
    "    line {\n",
    "        y(avg)\n",
    "        color = Color.PURPLE\n",
    "    }\n",
    "    line {\n",
    "        y(spread)\n",
    "        color = Color.GREEN\n",
    "    }\n",
    "    line {\n",
    "        y(mean)\n",
    "        color = Color.YELLOW\n",
    "    }\n",
    "}"
   ],
   "metadata": {
    "collapsed": false
   },
   "outputs": [],
   "execution_count": null
  },
  {
   "cell_type": "markdown",
   "source": [],
   "metadata": {
    "collapsed": false
   }
  },
  {
   "cell_type": "code",
   "source": [],
   "metadata": {
    "collapsed": false
   },
   "outputs": [],
   "execution_count": null
  }
 ],
 "metadata": {
  "kernelspec": {
   "display_name": "Kotlin",
   "language": "kotlin",
   "name": "kotlin"
  },
  "language_info": {
   "name": "kotlin",
   "version": "1.9.0",
   "mimetype": "text/x-kotlin",
   "file_extension": ".kt",
   "pygments_lexer": "kotlin",
   "codemirror_mode": "text/x-kotlin",
   "nbconvert_exporter": ""
  },
  "ktnbPluginMetadata": {
   "projectDependencies": true
  }
 },
 "nbformat": 4,
 "nbformat_minor": 0
}
